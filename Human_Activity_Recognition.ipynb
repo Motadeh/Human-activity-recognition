{
  "cells": [
    {
      "cell_type": "markdown",
      "metadata": {
        "id": "view-in-github",
        "colab_type": "text"
      },
      "source": [
        "<a href=\"https://colab.research.google.com/github/Motadeh/Human-activity-recognition/blob/main/Human_Activity_Recognition.ipynb\" target=\"_parent\"><img src=\"https://colab.research.google.com/assets/colab-badge.svg\" alt=\"Open In Colab\"/></a>"
      ]
    },
    {
      "cell_type": "code",
      "execution_count": 3,
      "metadata": {
        "colab": {
          "base_uri": "https://localhost:8080/"
        },
        "id": "XHtO0H9kuDNk",
        "outputId": "071bf3a9-20f7-414f-d310-dc9d3038ec03"
      },
      "outputs": [
        {
          "output_type": "stream",
          "name": "stdout",
          "text": [
            "Mounted at /content/drive\n"
          ]
        }
      ],
      "source": [
        "from google.colab import drive\n",
        "drive.mount('/content/drive')"
      ]
    },
    {
      "cell_type": "code",
      "execution_count": 4,
      "metadata": {
        "id": "yVjQACpEtDgl"
      },
      "outputs": [],
      "source": [
        "import pandas as pd\n",
        "import numpy as np\n",
        "import glob\n",
        "import os\n",
        "\n",
        "path = glob.glob('/content/drive/MyDrive/AAI/dataset/*.csv')\n",
        "\n",
        "all_data = []\n",
        "for item in path:\n",
        "  data_list = pd.read_csv(item)\n",
        "  all_data.append(data_list)\n",
        "\n",
        "y = all_data\n",
        "z = []\n",
        "for data in y:\n",
        "  \n",
        "  if data.shape[1] == 9:\n",
        "    if 'index' in data:\n",
        "      x = data.drop(columns=['index'])\n",
        "      z.append(x)\n",
        "    elif 'Unnamed: 0' in data:\n",
        "      x = data.drop(columns=['Unnamed: 0'])\n",
        "      z.append(x)\n",
        "  else:\n",
        "    z.append(data)\n",
        "  \n",
        "\n",
        "raw_data = np.concatenate([item for item in z], axis=0)"
      ]
    },
    {
      "cell_type": "code",
      "execution_count": 5,
      "metadata": {
        "id": "Or9QQd0XV8fB"
      },
      "outputs": [],
      "source": [
        "y_select_array = np.array(raw_data)"
      ]
    },
    {
      "cell_type": "code",
      "execution_count": 6,
      "metadata": {
        "id": "5Zx8RoAgLLqa"
      },
      "outputs": [],
      "source": [
        "y_select = []\n",
        "\n",
        "for i in y_select_array:\n",
        "  if i[7] == 1 or i[7] == 2 or i[7] == 6 or i[7] == 7:\n",
        "    y_select.append(i)\n",
        "\n",
        "y_select = pd.DataFrame(y_select, columns=[an for an in ['timestamp','back_x','back_y','back_z','thigh_x','thigh_y','thigh_z','label']])"
      ]
    },
    {
      "cell_type": "code",
      "execution_count": 7,
      "metadata": {
        "id": "koLdVGGVucHf"
      },
      "outputs": [],
      "source": [
        "X = y_select.drop(columns=['label','timestamp'])\n",
        "y = y_select['label']"
      ]
    },
    {
      "cell_type": "code",
      "execution_count": 6,
      "metadata": {
        "id": "L0pdcmrFvUuu"
      },
      "outputs": [],
      "source": [
        "import numpy as np\n",
        "\n",
        "signals = X\n",
        "frame_step = 250\n",
        "frame_length = frame_step\n",
        "output = []\n",
        "for i in range(0, len(signals), frame_step):\n",
        "    chunk = signals[i:i+frame_length]\n",
        "    # Ignore incomplete end chunk unless padding is enabled\n",
        "    if len(chunk) < frame_length:\n",
        "        continue\n",
        "    output.append(chunk)\n",
        "\n",
        "output = np.array(output)"
      ]
    },
    {
      "cell_type": "code",
      "execution_count": 7,
      "metadata": {
        "id": "C-vNX4zC2dBp"
      },
      "outputs": [],
      "source": [
        "labels = y\n",
        "frame_step = 250\n",
        "frame_length = frame_step\n",
        "output2 = []\n",
        "output_y = []\n",
        "for i in range(0, len(signals), frame_step):\n",
        "    chunk = labels[i:i+frame_length]\n",
        "    # Ignore incomplete end chunk unless padding is enabled\n",
        "    if len(chunk) < frame_length:\n",
        "        continue\n",
        "    counts = np.bincount(chunk, minlength=max(labels))\n",
        "    output2.append(np.argmax(counts))\n",
        "\n",
        "output2 = np.array(output2)"
      ]
    },
    {
      "cell_type": "code",
      "source": [
        "import pickle\n",
        "\n",
        "with open('/content/drive/MyDrive/AAI/dataset/output2', 'wb') as handle:\n",
        "    pickle.dump(output2, handle, protocol=pickle.HIGHEST_PROTOCOL)\n",
        "\n",
        "with open('/content/drive/MyDrive/AAI/dataset/output', 'wb') as handle:\n",
        "    pickle.dump(output, handle, protocol=pickle.HIGHEST_PROTOCOL)"
      ],
      "metadata": {
        "id": "1B4osIt9LwUl"
      },
      "execution_count": 47,
      "outputs": []
    },
    {
      "cell_type": "code",
      "source": [
        "# used to remove the time used to regroup dataset\n",
        "\n",
        "import pickle\n",
        "\n",
        "with open('/content/drive/MyDrive/AAI/dataset/output', 'rb' ) as f:\n",
        "  output = pickle.load(f)\n",
        "\n",
        "with open('/content/drive/MyDrive/AAI/dataset/output2', 'rb' ) as f:\n",
        "  output2 = pickle.load(f)\n"
      ],
      "metadata": {
        "id": "R8wWNgyfPhxp"
      },
      "execution_count": 8,
      "outputs": []
    },
    {
      "cell_type": "markdown",
      "source": [
        "## New Feature Creation"
      ],
      "metadata": {
        "id": "xxTmw6FtKuAY"
      }
    },
    {
      "cell_type": "code",
      "execution_count": 9,
      "metadata": {
        "id": "qqz_W436K6yJ"
      },
      "outputs": [],
      "source": [
        "import numpy as np\n",
        "\n",
        "b_magnitude = np.linalg.norm(output[:,:,:3], axis=2)\n",
        "\n",
        "t_magnitude = np.linalg.norm(output[:,:,3:], axis=2)"
      ]
    },
    {
      "cell_type": "code",
      "execution_count": 10,
      "metadata": {
        "id": "7s6mlSfqQRPX"
      },
      "outputs": [],
      "source": [
        "'''Raw signal with magnitude'''\n",
        "b_magnitudes = b_magnitude.reshape(list(b_magnitude.shape)+[1])\n",
        "t_magnitudes = t_magnitude.reshape(list(t_magnitude.shape)+[1])\n",
        "\n",
        "new_raw_data = np.concatenate([output,b_magnitudes, t_magnitudes], axis=2)"
      ]
    },
    {
      "cell_type": "code",
      "execution_count": 11,
      "metadata": {
        "id": "fTcHMe78WQ-O"
      },
      "outputs": [],
      "source": [
        "import scipy.signal\n",
        "import scipy.stats\n",
        "\n",
        "sample_rate=50\n",
        "gravity_freq=1"
      ]
    },
    {
      "cell_type": "code",
      "execution_count": 12,
      "metadata": {
        "id": "SWgpNOFuPfPF"
      },
      "outputs": [],
      "source": [
        "# gravity calculation\n",
        "\n",
        "b, a = scipy.signal.butter(4, gravity_freq, fs=sample_rate, btype='lowpass')\n",
        "\n",
        "gravity = scipy.signal.filtfilt(b, a, new_raw_data, axis=1)"
      ]
    },
    {
      "cell_type": "code",
      "execution_count": 13,
      "metadata": {
        "id": "vjNL9kO_Vqt5"
      },
      "outputs": [],
      "source": [
        "# final data\n",
        "\n",
        "data = new_raw_data - gravity"
      ]
    },
    {
      "cell_type": "code",
      "execution_count": 14,
      "metadata": {
        "id": "OhfwWJKoZ1xJ"
      },
      "outputs": [],
      "source": [
        "initial_axes = list(map(str, range(output.shape[-1])))\n",
        "\n",
        "new_axes = initial_axes.copy()\n",
        "\n",
        "new_axes.append('magnitude_b')\n",
        "\n",
        "new_axes.append('magnitude_t')\n",
        "\n",
        "def data_sorted():\n",
        "  \"\"\"\n",
        "  Sorts acceleration signal for computing quantiles efficiently.\n",
        "  \"\"\"\n",
        "  copy = data.copy()\n",
        "  copy.sort(axis=1)\n",
        "  return copy\n",
        "\n",
        "def mean_gravity():\n",
        "  return gravity.mean(axis=1)\n",
        "\n",
        "def cv_gravity():\n",
        "  '''The coefficient of variation: std/mean of the gravit signal'''\n",
        "  cv = scipy.stats.variation(gravity, axis=1)\n",
        "  # Replace nan with 0:\n",
        "  cv[np.isnan(cv)]=0\n",
        "  return cv\n",
        "\n",
        "def std_gravity():\n",
        "  return gravity.std(axis=1)\n",
        "\n",
        "def gravity_sorted():\n",
        "  copy = gravity.copy()\n",
        "  copy.sort(axis=1)\n",
        "  return copy\n",
        "\n",
        "def q0_gravity():\n",
        "  return gravity_sorted()[:, 0, :]\n",
        "\n",
        "def q25_gravity():\n",
        "  return gravity_sorted()[:, int(0.25 * data.shape[1]), :]\n",
        "\n",
        "def q50_gravity():\n",
        "  return gravity_sorted()[:, int(0.50 * data.shape[1]), :]\n",
        "\n",
        "def q75_gravity():\n",
        "  return gravity_sorted()[:, int(0.75 * data.shape[1]), :]\n",
        "\n",
        "def q100_gravity():\n",
        "  return gravity_sorted()[:, -1, :]\n",
        "\n",
        "def skew():\n",
        "  return scipy.stats.skew(data, axis=1)\n",
        "\n",
        "def kurtosis():\n",
        "  return scipy.stats.kurtosis(data, axis=1)\n",
        "\n",
        "def energy():\n",
        "  return np.sum(data**2, axis=1)\n",
        "\n",
        "def axes_corr():\n",
        "  corr = pd.DataFrame()\n",
        "\n",
        "  for i, name1 in enumerate(initial_axes):\n",
        "      for j, name2 in enumerate(initial_axes):\n",
        "          if j <= i: continue\n",
        "          x = data[:, :, i]\n",
        "          y = data[:, :, j]\n",
        "          corr[f'axes_corr_{name1}_{name2}'] = (((x * y).mean(axis=1) - x.mean(axis=1) * y.mean(axis=1)) /\n",
        "                                                (x.std(axis=1) * y.std(axis=1)).clip(0.000001, None))\n",
        "  # correlation between the magnitudes:\n",
        "  x = data[:, :, -2]\n",
        "  y = data[:, :, -1]\n",
        "  name1, name2 = new_axes[-2:]\n",
        "  corr[f'axes_corr_{name1}_{name2}'] = (((x * y).mean(axis=1) - x.mean(axis=1) * y.mean(axis=1)) /\n",
        "                                        (x.std(axis=1) * y.std(axis=1)).clip(0.000001, None))\n",
        "  return corr\n",
        "\n",
        "def axes_mean():\n",
        "  back_names = initial_axes[:3]\n",
        "  thigh_names = initial_axes[3:]\n",
        "  means = pd.DataFrame()\n",
        "  for i, b_column_name in enumerate(back_names):\n",
        "      for j, t_column_name in enumerate(thigh_names):\n",
        "          x = gravity[:, :, i]\n",
        "          y = gravity[:, :, j+3]\n",
        "          x = x.reshape(list(x.shape)+[1])\n",
        "          y = y.reshape(list(y.shape)+[1])\n",
        "          z = np.concatenate([x, y], axis=2)\n",
        "          m = z.mean(axis=1).mean(axis=1)\n",
        "          means[f'mean_{b_column_name}_{t_column_name}'] = m\n",
        "  return means\n",
        "\n",
        "def fft_ampl():\n",
        "  \"\"\"\n",
        "  Fourier transform amplitudes.\n",
        "  This is actually the magnitude as the absolute value\n",
        "  is computed.\n",
        "  \"\"\"\n",
        "  return np.abs(np.fft.rfft(data, axis=1))\n",
        "\n",
        "def fft_power():\n",
        "  '''Power spectrum of signal using FFT'''\n",
        "  return fft_ampl()**2\n",
        "\n",
        "def fft_freq():\n",
        "  \"\"\"\n",
        "  Actual frequency values corresponding to the amplitudes.\n",
        "  \"\"\"\n",
        "  return np.fft.rfftfreq(data.shape[1])\n",
        "\n",
        "def freq_mean():\n",
        "  return fft_ampl().mean(axis=1)\n",
        "\n",
        "def freq_dom():\n",
        "  return fft_freq()[fft_ampl().argmax(axis=1)]\n",
        "\n",
        "def freq_dom_mag():\n",
        "  return fft_ampl().max(axis=1)\n",
        "\n",
        "def freq_total_signal_power():\n",
        "  return np.sum(fft_power(), axis=1)\n",
        "\n",
        "def freq_std():\n",
        "  return fft_ampl().std(axis=1)\n",
        "\n",
        "def freq_cent():\n",
        "  sums = np.sum(fft_ampl(), axis=1)\n",
        "  sums = np.where(sums, sums, 1.)  # Avoid dividing by zero\n",
        "  return np.sum(fft_freq().reshape(1, -1, 1) * fft_ampl(), axis=1) / sums\n",
        "\n",
        "def mean_acceleration():\n",
        "  \"\"\"\n",
        "  Mean of the acceleration signal/component.\n",
        "  \"\"\"\n",
        "  return data.mean(axis=1)\n",
        "\n",
        "def cv_acceleration():\n",
        "  '''The coefficient of variation: std/mean of the acc signal'''\n",
        "  cv = scipy.stats.variation(data, axis=1)\n",
        "  cv[np.isnan(cv)]=0\n",
        "  return cv\n",
        "\n",
        "def q0_acceleration():\n",
        "  \"\"\"\n",
        "  0th quantile of acceleration (min).\n",
        "  \"\"\"\n",
        "  return data_sorted()[:, 0, :]\n",
        "\n",
        "def q25_acceleration():\n",
        "  \"\"\"\n",
        "  25th quantile of acc.\n",
        "  \"\"\"\n",
        "  return data_sorted()[:, int(0.25 * data.shape[1]), :]\n",
        "\n",
        "def q50_acceleration():\n",
        "  \"\"\"\n",
        "  50th quantile of acc.\n",
        "  \"\"\"\n",
        "  return data_sorted()[:, int(0.50 * data.shape[1]), :]\n",
        "\n",
        "def q75_acceleration():\n",
        "  \"\"\"\n",
        "  75th quantile of acc.\n",
        "  \"\"\"\n",
        "  return data_sorted()[:, int(0.75 * data.shape[1]), :]\n",
        "\n",
        "def q100_acceleration():\n",
        "  \"\"\"\n",
        "  100th quantile of acc (max).\n",
        "  \"\"\"\n",
        "  return data_sorted()[:, -1, :]"
      ]
    },
    {
      "cell_type": "code",
      "execution_count": 15,
      "metadata": {
        "id": "30CcNaf9N412"
      },
      "outputs": [],
      "source": [
        "feature_names = [\n",
        "  'mean_gravity',\n",
        "  'cv_gravity',\n",
        "  'std_gravity',\n",
        "  'q0_gravity',\n",
        "  'q25_gravity',\n",
        "  'q50_gravity',\n",
        "  'q75_gravity',\n",
        "  'q100_gravity',\n",
        "  'skew',\n",
        "  'kurtosis',\n",
        "  'energy',\n",
        "  'axes_corr',\n",
        "  'axes_mean',\n",
        "  'freq_mean',\n",
        "  'freq_dom',\n",
        "  'freq_dom_mag',\n",
        "  'freq_total_signal_power',\n",
        "  'freq_std',\n",
        "  'freq_cent'\n",
        "]"
      ]
    },
    {
      "cell_type": "code",
      "execution_count": 16,
      "metadata": {
        "id": "UTSBo1aLQPZG"
      },
      "outputs": [],
      "source": [
        "headers = []\n",
        "for col in X.columns:\n",
        "  headers.append(col)"
      ]
    },
    {
      "cell_type": "code",
      "execution_count": 17,
      "metadata": {
        "id": "NsGjFULPQ18R"
      },
      "outputs": [],
      "source": [
        "headers.append('magnitude_b')\n",
        "headers.append('magnitude_t')"
      ]
    },
    {
      "cell_type": "code",
      "execution_count": 18,
      "metadata": {
        "id": "vY_uOpEzNo5L"
      },
      "outputs": [],
      "source": [
        "def feature_extraction_functions(cls, *args, **kwargs):\n",
        "\n",
        "  function_mapping = {\n",
        "    'mean_gravity': mean_gravity,\n",
        "    'cv_gravity': cv_gravity,\n",
        "    'std_gravity': std_gravity,\n",
        "    'q0_gravity': q0_gravity,\n",
        "    'q25_gravity': q25_gravity,\n",
        "    'q50_gravity': q50_gravity,\n",
        "    'q75_gravity': q75_gravity,\n",
        "    'q100_gravity': q100_gravity,\n",
        "    'skew': skew,\n",
        "    'kurtosis': kurtosis,\n",
        "    'energy': energy,\n",
        "    'axes_corr': axes_corr,\n",
        "    'axes_mean': axes_mean,\n",
        "    'freq_mean': freq_mean,\n",
        "    'freq_dom': freq_dom,\n",
        "    'freq_dom_mag': freq_dom_mag,\n",
        "    'freq_total_signal_power': freq_total_signal_power,\n",
        "    'freq_std': freq_std,\n",
        "    'freq_cent': freq_cent,\n",
        "    'mean_acceleration': mean_acceleration,\n",
        "    'cv_acceleration': cv_acceleration,\n",
        "    'q0_acceleration': q0_acceleration,\n",
        "    'q25_acceleration': q25_acceleration,\n",
        "    'q50_acceleration': q50_acceleration,\n",
        "    'q75_acceleration': q75_acceleration,\n",
        "    'q100_acceleration': q100_acceleration\n",
        "  }\n",
        "\n",
        "  res = function_mapping[cls]()\n",
        "\n",
        "  if isinstance(res, (pd.DataFrame, pd.Series)):\n",
        "    pass\n",
        "  else:\n",
        "    res = pd.DataFrame(res, columns=[f'{cls}_{an}' for an in headers])\n",
        "\n",
        "  return res\n"
      ]
    },
    {
      "cell_type": "code",
      "execution_count": 19,
      "metadata": {
        "id": "aEvjQH-sMEWb"
      },
      "outputs": [],
      "source": [
        "def final_functions():\n",
        "\n",
        "  return pd.concat([feature_extraction_functions(fn) for fn in feature_names], axis=1)"
      ]
    },
    {
      "cell_type": "code",
      "execution_count": 20,
      "metadata": {
        "id": "uTiPGjteHTSO"
      },
      "outputs": [],
      "source": [
        "final_dataset = final_functions()"
      ]
    },
    {
      "cell_type": "markdown",
      "source": [
        "## Data Scaling"
      ],
      "metadata": {
        "id": "WtfZx_nsK63O"
      }
    },
    {
      "cell_type": "code",
      "execution_count": 21,
      "metadata": {
        "id": "xOy3RpUh2Ogc"
      },
      "outputs": [],
      "source": [
        "from sklearn import preprocessing\n",
        "from sklearn.preprocessing import MinMaxScaler\n",
        "\n",
        "scaler = MinMaxScaler()\n",
        "scaled = scaler.fit_transform(final_dataset)\n",
        "x_scaled = pd.DataFrame(scaled)"
      ]
    },
    {
      "cell_type": "markdown",
      "source": [
        "## Dataset Split"
      ],
      "metadata": {
        "id": "I6eWXAh2LGuP"
      }
    },
    {
      "cell_type": "code",
      "execution_count": 22,
      "metadata": {
        "id": "r4ZlSzlPaVn3"
      },
      "outputs": [],
      "source": [
        "#Train-Test dataset split  \n",
        "from sklearn.model_selection import train_test_split\n",
        "train_data, test_data, train_labels, test_labels = train_test_split(np.array(x_scaled), np.array(output2), random_state=50)"
      ]
    },
    {
      "cell_type": "code",
      "execution_count": 23,
      "metadata": {
        "id": "nFCgrM_-aaOS"
      },
      "outputs": [],
      "source": [
        "from sklearn.utils import shuffle\n",
        "train_data,train_labels = shuffle(train_data,train_labels)\n",
        "\n",
        "test_data,test_labels = shuffle(test_data,test_labels)"
      ]
    },
    {
      "cell_type": "markdown",
      "metadata": {
        "id": "qo4cBTeurCuj"
      },
      "source": [
        "## Logic Regression"
      ]
    },
    {
      "cell_type": "code",
      "execution_count": 28,
      "metadata": {
        "id": "yCWCsugDxrVs"
      },
      "outputs": [],
      "source": [
        "LABELS = ['walking', 'running', 'standing', 'sitting']"
      ]
    },
    {
      "cell_type": "code",
      "execution_count": 225,
      "metadata": {
        "id": "mHMsbzYa-87Z"
      },
      "outputs": [],
      "source": [
        "from sklearn.linear_model import LogisticRegression\n",
        "\n",
        "log = LogisticRegression(penalty='l2',C=50, multi_class='ovr',solver='lbfgs',class_weight='balanced', max_iter=1000000000)"
      ]
    },
    {
      "cell_type": "code",
      "execution_count": 226,
      "metadata": {
        "colab": {
          "base_uri": "https://localhost:8080/"
        },
        "id": "9g-fPo-f_SSQ",
        "outputId": "58c22ec3-ed5d-4cbc-adb9-00d3bd2491b1"
      },
      "outputs": [
        {
          "output_type": "execute_result",
          "data": {
            "text/plain": [
              "LogisticRegression(C=50, class_weight='balanced', max_iter=1000000000,\n",
              "                   multi_class='ovr')"
            ]
          },
          "metadata": {},
          "execution_count": 226
        }
      ],
      "source": [
        "log.fit(train_data,train_labels)"
      ]
    },
    {
      "cell_type": "code",
      "execution_count": 227,
      "metadata": {
        "colab": {
          "base_uri": "https://localhost:8080/"
        },
        "id": "Lv5eJ8y8_lMj",
        "outputId": "fc8708c0-442f-4c52-b1a2-8b377cf9519c"
      },
      "outputs": [
        {
          "output_type": "execute_result",
          "data": {
            "text/plain": [
              "array([7, 7, 7, ..., 6, 2, 2])"
            ]
          },
          "metadata": {},
          "execution_count": 227
        }
      ],
      "source": [
        "y_pred = log.predict(test_data)"
      ]
    },
    {
      "cell_type": "code",
      "execution_count": 247,
      "metadata": {
        "colab": {
          "base_uri": "https://localhost:8080/",
          "height": 482
        },
        "id": "CqQYZzLp_1B3",
        "outputId": "ece02135-13af-4fd1-aba1-36ffb65177be"
      },
      "outputs": [
        {
          "output_type": "stream",
          "name": "stdout",
          "text": [
            "Acuracy 0.9814995131450828\n",
            "P,R,F1: (0.9717096202321744, 0.9734797831051549, 0.9725622167278627, None)\n"
          ]
        },
        {
          "output_type": "execute_result",
          "data": {
            "text/plain": [
              "<matplotlib.axes._subplots.AxesSubplot at 0x7ffa17dbb310>"
            ]
          },
          "metadata": {},
          "execution_count": 247
        },
        {
          "output_type": "display_data",
          "data": {
            "text/plain": [
              "<Figure size 720x504 with 2 Axes>"
            ],
            "image/png": "[encoded data removed]"
          },
          "metadata": {
            "needs_background": "light"
          }
        }
      ],
      "source": [
        "from sklearn.metrics import classification_report,confusion_matrix,accuracy_score,precision_recall_fscore_support\n",
        "import matplotlib.pyplot as plt\n",
        "import itertools\n",
        "import seaborn as sn\n",
        "\n",
        "print(\"Acuracy\", accuracy_score(test_labels, y_pred))\n",
        "print(\"P,R,F1:\",precision_recall_fscore_support(test_labels, y_pred, average='macro'))\n",
        "\n",
        "confusion_matrix(test_labels,y_pred)\n",
        "rf_cm = pd.DataFrame(confusion_matrix(test_labels,y_pred), index = [i for i in LABELS], columns = [i for i in LABELS])\n",
        "plt.figure(figsize = (10,7))\n",
        "sn.heatmap(rf_cm, annot=True, fmt='g')"
      ]
    },
    {
      "cell_type": "code",
      "execution_count": 229,
      "metadata": {
        "colab": {
          "base_uri": "https://localhost:8080/"
        },
        "id": "TFDTztscAGyC",
        "outputId": "56712e09-922b-4c4c-9088-2951e831c830"
      },
      "outputs": [
        {
          "output_type": "execute_result",
          "data": {
            "text/plain": [
              "0.9814995131450828"
            ]
          },
          "metadata": {},
          "execution_count": 229
        }
      ],
      "source": [
        "accuracy_score(test_labels,y_pred)"
      ]
    },
    {
      "cell_type": "markdown",
      "metadata": {
        "id": "oR5DztxX1Npu"
      },
      "source": [
        "## Random Forest"
      ]
    },
    {
      "cell_type": "code",
      "execution_count": 244,
      "metadata": {
        "colab": {
          "base_uri": "https://localhost:8080/"
        },
        "id": "ARs0_7io1Mcm",
        "outputId": "0872a090-a033-413a-a714-80c31a14a854"
      },
      "outputs": [
        {
          "output_type": "execute_result",
          "data": {
            "text/plain": [
              "RandomForestClassifier(n_estimators=300, n_jobs=-1)"
            ]
          },
          "metadata": {},
          "execution_count": 244
        }
      ],
      "source": [
        "from sklearn.ensemble import RandomForestClassifier\n",
        "\n",
        "n_estimators=300\n",
        "rndforest = RandomForestClassifier(n_estimators=n_estimators, n_jobs=-1)\n",
        "rndforest.fit(train_data, train_labels)\n"
      ]
    },
    {
      "cell_type": "code",
      "execution_count": null,
      "metadata": {
        "id": "Nl588Oix11dV"
      },
      "outputs": [],
      "source": [
        "print(\"Training accuracy:\", rndforest.score(train_data, train_labels))\n",
        "print(\"Validation accuracy\", rndforest.score(test_data, test_labels))"
      ]
    },
    {
      "cell_type": "code",
      "execution_count": null,
      "metadata": {
        "id": "MXz1eqsR2Y6x"
      },
      "outputs": [],
      "source": [
        "rf_pred = rndforest.predict(test_data)"
      ]
    },
    {
      "cell_type": "code",
      "source": [
        "accuracy_score(test_labels,rf_pred)"
      ],
      "metadata": {
        "id": "AatPRujo_B9a"
      },
      "execution_count": null,
      "outputs": []
    },
    {
      "cell_type": "code",
      "execution_count": 248,
      "metadata": {
        "colab": {
          "base_uri": "https://localhost:8080/",
          "height": 482
        },
        "id": "qAh6l--R2nX8",
        "outputId": "f298399e-e21a-481a-b510-1571e0172ae9"
      },
      "outputs": [
        {
          "output_type": "stream",
          "name": "stdout",
          "text": [
            "Acuracy 0.9842259006815969\n",
            "P,R,F1: (0.9779030550550546, 0.9764594651446421, 0.9771718203394114, None)\n"
          ]
        },
        {
          "output_type": "execute_result",
          "data": {
            "text/plain": [
              "<matplotlib.axes._subplots.AxesSubplot at 0x7ffa199a5a90>"
            ]
          },
          "metadata": {},
          "execution_count": 248
        },
        {
          "output_type": "display_data",
          "data": {
            "text/plain": [
              "<Figure size 720x504 with 2 Axes>"
            ],
            "image/png": "[encoded data removed]"
          },
          "metadata": {
            "needs_background": "light"
          }
        }
      ],
      "source": [
        "from sklearn.metrics import classification_report,confusion_matrix,accuracy_score,precision_recall_fscore_support\n",
        "import matplotlib.pyplot as plt\n",
        "import itertools\n",
        "import seaborn as sn\n",
        "\n",
        "\n",
        "print(\"Acuracy\", accuracy_score(test_labels, rf_pred))\n",
        "print(\"P,R,F1:\",precision_recall_fscore_support(test_labels, rf_pred, average='macro'))\n",
        "\n",
        "confusion_matrix(test_labels,rf_pred)\n",
        "df_cm = pd.DataFrame(confusion_matrix(test_labels,rf_pred), index = [i for i in LABELS], columns = [i for i in LABELS])\n",
        "plt.figure(figsize = (10,7))\n",
        "sn.heatmap(df_cm, annot=True, fmt='g')"
      ]
    }
  ],
  "metadata": {
    "colab": {
      "provenance": [],
      "authorship_tag": "ABX9TyNx9v4wqDdiVjwWXJKA4kez",
      "include_colab_link": true
    },
    "kernelspec": {
      "display_name": "Python 3",
      "name": "python3"
    },
    "language_info": {
      "name": "python"
    }
  },
  "nbformat": 4,
  "nbformat_minor": 0
}